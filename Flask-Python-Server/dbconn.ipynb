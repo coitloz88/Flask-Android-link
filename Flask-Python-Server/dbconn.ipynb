{
 "cells": [
  {
   "cell_type": "code",
   "execution_count": 5,
   "id": "3166c844",
   "metadata": {},
   "outputs": [],
   "source": [
    "import pymysql\n",
    "\n",
    "class Database():\n",
    "    def __init__(self):\n",
    "        self.conn = pymysql.connect(host='localhost',\n",
    "                                  user='root',\n",
    "                                  password='1234',\n",
    "                                  db='test',\n",
    "                                  charset='utf8')\n",
    "        self.cursor = self.conn.cursor(pymysql.cursors.DictCursor)\n",
    "\n",
    "    def execute(self, query, args={}):\n",
    "        self.cursor.execute(query, args)\n",
    "\n",
    "    def executeOne(self, query, args={}):\n",
    "        self.cursor.execute(query, args)\n",
    "        row = self.cursor.fetchone()\n",
    "        return row\n",
    "\n",
    "    def executeAll(self, query, args={}):\n",
    "        self.cursor.execute(query, args)\n",
    "        row = self.cursor.fetchall()\n",
    "        return row\n",
    "\n",
    "    def commit(self):\n",
    "        self.conn.commit()\n",
    "        \n",
    "    def close(self):\n",
    "        self.conn.close()"
   ]
  },
  {
   "cell_type": "code",
   "execution_count": null,
   "id": "da9f90e6",
   "metadata": {},
   "outputs": [],
   "source": []
  }
 ],
 "metadata": {
  "kernelspec": {
   "display_name": "Python 3 (ipykernel)",
   "language": "python",
   "name": "python3"
  },
  "language_info": {
   "codemirror_mode": {
    "name": "ipython",
    "version": 3
   },
   "file_extension": ".py",
   "mimetype": "text/x-python",
   "name": "python",
   "nbconvert_exporter": "python",
   "pygments_lexer": "ipython3",
   "version": "3.9.7"
  }
 },
 "nbformat": 4,
 "nbformat_minor": 5
}
