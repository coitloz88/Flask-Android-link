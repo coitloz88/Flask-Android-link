{
 "cells": [
  {
   "cell_type": "code",
   "execution_count": null,
   "id": "d109cc2f",
   "metadata": {},
   "outputs": [
    {
     "name": "stdout",
     "output_type": "stream",
     "text": [
      " * Serving Flask app \"__main__\" (lazy loading)\n",
      " * Environment: production\n",
      "\u001b[31m   WARNING: This is a development server. Do not use it in a production deployment.\u001b[0m\n",
      "\u001b[2m   Use a production WSGI server instead.\u001b[0m\n",
      " * Debug mode: off\n"
     ]
    },
    {
     "name": "stderr",
     "output_type": "stream",
     "text": [
      " * Running on all addresses.\n",
      "   WARNING: This is a development server. Do not use it in a production deployment.\n",
      " * Running on http://143.248.92.54:5000/ (Press CTRL+C to quit)\n",
      "143.248.92.54 - - [13/Apr/2022 16:13:36] \"GET / HTTP/1.1\" 200 -\n",
      "143.248.92.54 - - [13/Apr/2022 16:14:07] \"GET / HTTP/1.1\" 200 -\n",
      "127.0.0.1 - - [13/Apr/2022 16:14:12] \"GET / HTTP/1.1\" 200 -\n",
      "127.0.0.1 - - [13/Apr/2022 16:14:16] \"GET / HTTP/1.1\" 200 -\n",
      "127.0.0.1 - - [13/Apr/2022 16:14:17] \"GET / HTTP/1.1\" 200 -\n",
      "127.0.0.1 - - [13/Apr/2022 16:14:18] \"GET / HTTP/1.1\" 200 -\n",
      "127.0.0.1 - - [13/Apr/2022 16:14:18] \"GET / HTTP/1.1\" 200 -\n",
      "127.0.0.1 - - [13/Apr/2022 16:14:19] \"GET / HTTP/1.1\" 200 -\n",
      "127.0.0.1 - - [13/Apr/2022 16:14:19] \"GET / HTTP/1.1\" 200 -\n",
      "127.0.0.1 - - [13/Apr/2022 16:14:19] \"GET / HTTP/1.1\" 200 -\n",
      "127.0.0.1 - - [13/Apr/2022 16:14:20] \"GET / HTTP/1.1\" 200 -\n",
      "143.248.92.54 - - [13/Apr/2022 16:14:28] \"GET / HTTP/1.1\" 200 -\n",
      "143.248.92.54 - - [13/Apr/2022 16:14:34] \"GET / HTTP/1.1\" 200 -\n",
      "143.248.92.54 - - [13/Apr/2022 16:17:47] \"GET / HTTP/1.1\" 200 -\n",
      "143.248.92.54 - - [13/Apr/2022 16:17:47] \"GET / HTTP/1.1\" 200 -\n",
      "143.248.92.54 - - [13/Apr/2022 16:17:48] \"GET / HTTP/1.1\" 200 -\n",
      "143.248.92.54 - - [13/Apr/2022 16:17:48] \"GET / HTTP/1.1\" 200 -\n",
      "143.248.92.54 - - [13/Apr/2022 16:17:49] \"GET / HTTP/1.1\" 200 -\n",
      "143.248.92.54 - - [13/Apr/2022 16:36:24] \"GET / HTTP/1.1\" 200 -\n"
     ]
    }
   ],
   "source": [
    "import flask\n",
    "import random\n",
    "\n",
    "app = flask.Flask(__name__)\n",
    "\n",
    "@app.route('/')\n",
    "def make_randomNumber():\n",
    "    ranStr = \"random number: \" + str(random.randrange(1, 11))\n",
    "    return flask.jsonify({'tk':ranStr}), 200\n",
    "    \n",
    "if __name__ == '__main__':\n",
    "    app.run(host = '0.0.0.0')"
   ]
  }
 ],
 "metadata": {
  "kernelspec": {
   "display_name": "Python 3 (ipykernel)",
   "language": "python",
   "name": "python3"
  },
  "language_info": {
   "codemirror_mode": {
    "name": "ipython",
    "version": 3
   },
   "file_extension": ".py",
   "mimetype": "text/x-python",
   "name": "python",
   "nbconvert_exporter": "python",
   "pygments_lexer": "ipython3",
   "version": "3.9.7"
  }
 },
 "nbformat": 4,
 "nbformat_minor": 5
}
