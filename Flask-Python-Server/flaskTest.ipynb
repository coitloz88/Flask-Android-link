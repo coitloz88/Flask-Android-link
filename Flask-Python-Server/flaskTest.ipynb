{
 "cells": [
  {
   "cell_type": "code",
   "execution_count": null,
   "id": "d109cc2f",
   "metadata": {},
   "outputs": [],
   "source": [
    "import flask\n",
    "import random\n",
    "\n",
    "app = flask.Flask(__name__)\n",
    "\n",
    "@app.route('/')\n",
    "def make_randomNumber():\n",
    "    ranStr = random.randrange(1, 11)\n",
    "    return flask.jsonify({'tk':ranStr}), 200\n",
    "    \n",
    "if __name__ == '__main__':\n",
    "    app.run(host = '0.0.0.0')"
   ]
  },
  {
   "cell_type": "code",
   "execution_count": null,
   "id": "9a75548c",
   "metadata": {},
   "outputs": [],
   "source": []
  }
 ],
 "metadata": {
  "kernelspec": {
   "display_name": "Python 3 (ipykernel)",
   "language": "python",
   "name": "python3"
  },
  "language_info": {
   "codemirror_mode": {
    "name": "ipython",
    "version": 3
   },
   "file_extension": ".py",
   "mimetype": "text/x-python",
   "name": "python",
   "nbconvert_exporter": "python",
   "pygments_lexer": "ipython3",
   "version": "3.9.7"
  }
 },
 "nbformat": 4,
 "nbformat_minor": 5
}
