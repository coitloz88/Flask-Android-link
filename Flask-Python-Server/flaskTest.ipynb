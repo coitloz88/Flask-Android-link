{
 "cells": [
  {
   "cell_type": "code",
   "execution_count": null,
   "id": "d109cc2f",
   "metadata": {},
   "outputs": [
    {
     "name": "stdout",
     "output_type": "stream",
     "text": [
      " * Serving Flask app \"__main__\" (lazy loading)\n",
      " * Environment: production\n",
      "\u001b[31m   WARNING: This is a development server. Do not use it in a production deployment.\u001b[0m\n",
      "\u001b[2m   Use a production WSGI server instead.\u001b[0m\n",
      " * Debug mode: off\n"
     ]
    },
    {
     "name": "stderr",
     "output_type": "stream",
     "text": [
      " * Running on all addresses.\n",
      "   WARNING: This is a development server. Do not use it in a production deployment.\n",
      " * Running on http://143.248.92.54:5000/ (Press CTRL+C to quit)\n",
      "143.248.92.54 - - [14/Apr/2022 12:58:08] \"GET / HTTP/1.1\" 200 -\n",
      "143.248.92.54 - - [14/Apr/2022 12:58:08] \"GET /favicon.ico HTTP/1.1\" 404 -\n",
      "143.248.92.54 - - [14/Apr/2022 12:58:11] \"GET / HTTP/1.1\" 200 -\n",
      "127.0.0.1 - - [14/Apr/2022 13:01:40] \"GET / HTTP/1.1\" 200 -\n",
      "127.0.0.1 - - [14/Apr/2022 13:01:40] \"GET /favicon.ico HTTP/1.1\" 404 -\n",
      "127.0.0.1 - - [14/Apr/2022 13:02:21] \"GET / HTTP/1.1\" 200 -\n",
      "127.0.0.1 - - [14/Apr/2022 13:08:36] \"GET / HTTP/1.1\" 200 -\n",
      "127.0.0.1 - - [14/Apr/2022 13:08:38] \"GET /favicon.ico HTTP/1.1\" 404 -\n",
      "127.0.0.1 - - [14/Apr/2022 13:09:28] code 400, message Bad request version ('À')\n",
      "íÉMÍ¹ý\u0000~Ùö\u0015°\u0013G¶>\u001f+t´-Ñì(»oÒ\u0000\"\u0013\u0001\u0013\u0002\u0013\u0003À+À,Ì©À/À0Ì¨À\tÀvHãsDçË",
      "ßÎÚÒn£Ø¿ÏÆòL\u0011æ\u000eÀw« k\" HTTPStatus.BAD_REQUEST -\n",
      "127.0.0.1 - - [14/Apr/2022 13:10:05] code 400, message Bad request syntax ('\\x16\\x03\\x01\\x00û\\x01\\x00\\x00÷\\x03\\x03')\n",
      "127.0.0.1 - - [14/Apr/2022 13:10:05] \"\u0016\u0003\u0001\u0000û\u0001\u0000\u0000÷\u0003\u0003\" HTTPStatus.BAD_REQUEST -\n",
      "127.0.0.1 - - [14/Apr/2022 13:10:14] code 400, message Bad request syntax ('\\x16\\x03\\x01\\x00û\\x01\\x00\\x00÷\\x03\\x03&\\x95ô`]')\n",
      "127.0.0.1 - - [14/Apr/2022 13:10:14] \"\u0016\u0003\u0001\u0000û\u0001\u0000\u0000÷\u0003\u0003&ô`]\" HTTPStatus.BAD_REQUEST -\n",
      "127.0.0.1 - - [14/Apr/2022 13:13:08] code 400, message Bad request version ('À')\n",
      "127.0.0.1 - - [14/Apr/2022 13:13:08] \"\u0016\u0003\u0001\u0000û\u0001\u0000\u0000÷\u0003\u0003-&iD:!Î\u0015ùG\u001aÈ.Ë©=%\u000fcÅ0à«mÞ&©Pµº< ê\u0013GZÜ]\"P¶bn\u0003¡ùÂA_",
      "àSþ\u0013Íüd\f",
      "\u0003\u0000\"\u0013\u0001\u0013\u0002\u0013\u0003À+À,Ì©À/À0Ì¨À\tÀ\" HTTPStatus.BAD_REQUEST -\n",
      "127.0.0.1 - - [14/Apr/2022 13:17:58] \"GET / HTTP/1.1\" 200 -\n",
      "127.0.0.1 - - [14/Apr/2022 13:18:27] \"GET / HTTP/1.1\" 200 -\n",
      "127.0.0.1 - - [14/Apr/2022 14:24:07] \"GET / HTTP/1.1\" 200 -\n"
     ]
    }
   ],
   "source": [
    "import flask\n",
    "import random\n",
    "\n",
    "app = flask.Flask(__name__)\n",
    "\n",
    "@app.route('/')\n",
    "def make_randomNumber():\n",
    "    ranStr = \"random number: \" + str(random.randrange(1, 11))\n",
    "    return flask.jsonify({'tk':ranStr}), 200\n",
    "    \n",
    "if __name__ == '__main__':\n",
    "    app.run(host = '0.0.0.0')"
   ]
  },
  {
   "cell_type": "code",
   "execution_count": null,
   "id": "9a75548c",
   "metadata": {},
   "outputs": [],
   "source": []
  }
 ],
 "metadata": {
  "kernelspec": {
   "display_name": "Python 3 (ipykernel)",
   "language": "python",
   "name": "python3"
  },
  "language_info": {
   "codemirror_mode": {
    "name": "ipython",
    "version": 3
   },
   "file_extension": ".py",
   "mimetype": "text/x-python",
   "name": "python",
   "nbconvert_exporter": "python",
   "pygments_lexer": "ipython3",
   "version": "3.9.7"
  }
 },
 "nbformat": 4,
 "nbformat_minor": 5
}
