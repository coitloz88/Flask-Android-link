{
 "cells": [
  {
   "cell_type": "code",
   "execution_count": 7,
   "id": "d109cc2f",
   "metadata": {},
   "outputs": [
    {
     "name": "stdout",
     "output_type": "stream",
     "text": [
      " * Serving Flask app \"__main__\" (lazy loading)\n",
      " * Environment: production\n",
      "\u001b[31m   WARNING: This is a development server. Do not use it in a production deployment.\u001b[0m\n",
      "\u001b[2m   Use a production WSGI server instead.\u001b[0m\n",
      " * Debug mode: off\n"
     ]
    },
    {
     "name": "stderr",
     "output_type": "stream",
     "text": [
      " * Running on all addresses.\n",
      "   WARNING: This is a development server. Do not use it in a production deployment.\n",
      " * Running on http://143.248.92.54:5000/ (Press CTRL+C to quit)\n",
      "127.0.0.1 - - [14/Jul/2022 13:48:59] \"POST /post HTTP/1.1\" 200 -\n"
     ]
    },
    {
     "name": "stdout",
     "output_type": "stream",
     "text": [
      "True\n",
      "key: id, value: test01@sample.com\n",
      "\n",
      "key: time, value: 2022-07-14 13:48:59.747\n",
      "\n"
     ]
    },
    {
     "name": "stderr",
     "output_type": "stream",
     "text": [
      "127.0.0.1 - - [14/Jul/2022 13:49:12] \"POST /post HTTP/1.1\" 200 -\n"
     ]
    },
    {
     "name": "stdout",
     "output_type": "stream",
     "text": [
      "True\n",
      "key: id, value: test02@sample.com\n",
      "\n",
      "key: time, value: 2022-07-14 13:49:12.678\n",
      "\n"
     ]
    },
    {
     "name": "stderr",
     "output_type": "stream",
     "text": [
      "127.0.0.1 - - [14/Jul/2022 13:54:25] \"GET /send HTTP/1.1\" 200 -\n"
     ]
    }
   ],
   "source": [
    "import flask\n",
    "import json\n",
    "import requests\n",
    "\n",
    "import import_ipynb\n",
    "import dbconn\n",
    "\n",
    "app = flask.Flask(__name__)\n",
    "\n",
    "@app.route('/')\n",
    "def root(): \n",
    "    return 'Default page'\n",
    "\n",
    "@app.route('/test')\n",
    "def test():\n",
    "    return render_template('test.html')\n",
    "\n",
    "@app.route('/post', methods = ['POST'])\n",
    "def post():\n",
    "    if flask.request.method == 'POST':\n",
    "        params = {}\n",
    "\n",
    "        if flask.request.is_json:\n",
    "            print(flask.request.is_json)\n",
    "            params = flask.request.get_json()\n",
    "        else:\n",
    "            params = json.loads(flask.request.get_data())\n",
    "\n",
    "        if len(params) == 0:\n",
    "            return 'No parameter'\n",
    "\n",
    "        dbClass = dbconn.Database()\n",
    "        \n",
    "        params_str = ''\n",
    "        for key in params.keys():\n",
    "            print('key: {}, value: {}\\n'.format(key, params[key]))\n",
    "            \n",
    "            if key == \"id\":\n",
    "                sql = \"INSERT INTO user (Email) VALUES (%s)\"\n",
    "                dbClass.execute(sql, params[key])\n",
    "                dbClass.commit()\n",
    "                \n",
    "            params_str += 'key: {}, value: {}<br>'.format(key, params[key])\n",
    "        \n",
    "        # dbClass.close()\n",
    "        return params_str\n",
    "    \n",
    "@app.route('/send')\n",
    "def send():\n",
    "    return flask.jsonify({\n",
    "        'incentive': 500\n",
    "    }), 200\n",
    "\n",
    "if __name__ == '__main__':\n",
    "    app.run(host = '0.0.0.0')"
   ]
  },
  {
   "cell_type": "code",
   "execution_count": null,
   "id": "800ad864",
   "metadata": {},
   "outputs": [],
   "source": []
  }
 ],
 "metadata": {
  "kernelspec": {
   "display_name": "Python 3 (ipykernel)",
   "language": "python",
   "name": "python3"
  },
  "language_info": {
   "codemirror_mode": {
    "name": "ipython",
    "version": 3
   },
   "file_extension": ".py",
   "mimetype": "text/x-python",
   "name": "python",
   "nbconvert_exporter": "python",
   "pygments_lexer": "ipython3",
   "version": "3.9.7"
  }
 },
 "nbformat": 4,
 "nbformat_minor": 5
}
