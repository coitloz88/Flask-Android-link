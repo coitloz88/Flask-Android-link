{
 "cells": [
  {
   "cell_type": "code",
   "execution_count": null,
   "id": "d109cc2f",
   "metadata": {},
   "outputs": [
    {
     "name": "stdout",
     "output_type": "stream",
     "text": [
      " * Serving Flask app \"__main__\" (lazy loading)\n",
      " * Environment: production\n",
      "\u001b[31m   WARNING: This is a development server. Do not use it in a production deployment.\u001b[0m\n",
      "\u001b[2m   Use a production WSGI server instead.\u001b[0m\n",
      " * Debug mode: off\n"
     ]
    },
    {
     "name": "stderr",
     "output_type": "stream",
     "text": [
      " * Running on all addresses.\n",
      "   WARNING: This is a development server. Do not use it in a production deployment.\n",
      " * Running on http://143.248.92.54:5000/ (Press CTRL+C to quit)\n",
      "143.248.92.54 - - [13/Jul/2022 14:22:19] \"GET / HTTP/1.1\" 200 -\n",
      "[2022-07-13 14:22:24,769] ERROR in app: Exception on /handle_post [POST]\n",
      "Traceback (most recent call last):\n",
      "  File \"C:\\Users\\loveg\\anaconda3\\lib\\site-packages\\flask\\app.py\", line 2447, in wsgi_app\n",
      "    response = self.full_dispatch_request()\n",
      "  File \"C:\\Users\\loveg\\anaconda3\\lib\\site-packages\\flask\\app.py\", line 1952, in full_dispatch_request\n",
      "    rv = self.handle_user_exception(e)\n",
      "  File \"C:\\Users\\loveg\\anaconda3\\lib\\site-packages\\flask\\app.py\", line 1821, in handle_user_exception\n",
      "    reraise(exc_type, exc_value, tb)\n",
      "  File \"C:\\Users\\loveg\\anaconda3\\lib\\site-packages\\flask\\_compat.py\", line 39, in reraise\n",
      "    raise value\n",
      "  File \"C:\\Users\\loveg\\anaconda3\\lib\\site-packages\\flask\\app.py\", line 1950, in full_dispatch_request\n",
      "    rv = self.dispatch_request()\n",
      "  File \"C:\\Users\\loveg\\anaconda3\\lib\\site-packages\\flask\\app.py\", line 1936, in dispatch_request\n",
      "    return self.view_functions[rule.endpoint](**req.view_args)\n",
      "  File \"C:\\Users\\loveg\\AppData\\Local\\Temp/ipykernel_6944/2745471768.py\", line 37, in handle_post\n",
      "    if len(params) == 0:\n",
      "UnboundLocalError: local variable 'params' referenced before assignment\n",
      "143.248.92.54 - - [13/Jul/2022 14:22:24] \"POST /handle_post HTTP/1.1\" 500 -\n",
      "143.248.92.54 - - [13/Jul/2022 14:22:24] \"GET /send_post HTTP/1.1\" 200 -\n"
     ]
    }
   ],
   "source": [
    "from flask import Flask, request\n",
    "import json\n",
    "import requests\n",
    "\n",
    "app = Flask(__name__)\n",
    "\n",
    "@app.route('/')\n",
    "def root():\n",
    "    return 'Default page'\n",
    "\n",
    "@app.route('/test')\n",
    "def test():\n",
    "    return render_template('test.html')\n",
    "\"\"\"\n",
    "@app.route('/post', methods = ['POST'])\n",
    "def post():\n",
    "    if request.method == 'POST':\n",
    "        \n",
    "        params = json.loads(request.get_data())\n",
    "        if len(params) == 0:\n",
    "            return 'No parameter'\n",
    "\n",
    "        params_str = ''\n",
    "        for key in params.keys():\n",
    "            params_str += 'key: {}, value: {}<br>'.format(key, params[key])\n",
    "        return params_str\n",
    "    \n",
    "@app.route('/send')\n",
    "def send():\n",
    "    return jsonify({\n",
    "        \"incentive\", 500\n",
    "    })\n",
    "\n",
    "\"\"\"\n",
    "@app.route('/handle_post', methods=['POST'])\n",
    "def handle_post():\n",
    "    if len(params) == 0:\n",
    "        return 'No parameter'\n",
    "    \n",
    "    params = \n",
    "    if request.is_json:\n",
    "        print(request.is_json)\n",
    "        params = request.get_json()\n",
    "    else:\n",
    "        params = json.loads(request.get_data())\n",
    "\n",
    "    params_str = ''\n",
    "    for key in params.keys():\n",
    "        params_str += 'key: {}, value: {}<br>'.format(key, params[key])\n",
    "    return params_str\n",
    "\n",
    "\n",
    "@app.route('/send_post', methods=['GET'])\n",
    "def send_post():\n",
    "    params = {\n",
    "        \"param1\": \"test1\",\n",
    "        \"param2\": 1111\n",
    "    }\n",
    "    res = requests.post(\"http://143.248.92.54:5000/handle_post\", data=json.dumps(params))\n",
    "    return res.text\n",
    "\n",
    "\n",
    "if __name__ == '__main__':\n",
    "    app.run(host = '0.0.0.0')"
   ]
  },
  {
   "cell_type": "code",
   "execution_count": null,
   "id": "800ad864",
   "metadata": {},
   "outputs": [],
   "source": []
  }
 ],
 "metadata": {
  "kernelspec": {
   "display_name": "Python 3 (ipykernel)",
   "language": "python",
   "name": "python3"
  },
  "language_info": {
   "codemirror_mode": {
    "name": "ipython",
    "version": 3
   },
   "file_extension": ".py",
   "mimetype": "text/x-python",
   "name": "python",
   "nbconvert_exporter": "python",
   "pygments_lexer": "ipython3",
   "version": "3.9.7"
  }
 },
 "nbformat": 4,
 "nbformat_minor": 5
}
