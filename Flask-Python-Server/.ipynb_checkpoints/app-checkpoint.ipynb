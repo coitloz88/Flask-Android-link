{
 "cells": [
  {
   "cell_type": "code",
   "execution_count": 26,
   "id": "d109cc2f",
   "metadata": {},
   "outputs": [
    {
     "name": "stdout",
     "output_type": "stream",
     "text": [
      " * Serving Flask app \"__main__\" (lazy loading)\n",
      " * Environment: production\n",
      "\u001b[31m   WARNING: This is a development server. Do not use it in a production deployment.\u001b[0m\n",
      "\u001b[2m   Use a production WSGI server instead.\u001b[0m\n",
      " * Debug mode: off\n"
     ]
    },
    {
     "name": "stderr",
     "output_type": "stream",
     "text": [
      " * Running on all addresses.\n",
      "   WARNING: This is a development server. Do not use it in a production deployment.\n",
      " * Running on http://143.248.92.54:5000/ (Press CTRL+C to quit)\n",
      "143.248.92.54 - - [13/Jul/2022 14:01:57] \"GET / HTTP/1.1\" 200 -\n",
      "143.248.92.54 - - [13/Jul/2022 14:02:05] \"GET /post HTTP/1.1\" 405 -\n"
     ]
    }
   ],
   "source": [
    "from flask import Flask, request\n",
    "import json\n",
    "import requests\n",
    "\n",
    "# from flaskext.mysql import MySQL\n",
    "\n",
    "# mysql = MySQL()\n",
    "app = Flask(__name__)\n",
    "\n",
    "\"\"\" # DB 파트\n",
    "app.config['MYSQL_DATABASE_USER'] = 'root'\n",
    "app.config['MYSQL_DATABASE_PASSWORD'] = '0000'\n",
    "app.config['MYSQL_DATABASE_DB'] = 'user_info'\n",
    "app.config['MYSQL_DATABASE_HOST'] = 'localhost'\n",
    "app.secret_key = \"ABCDEFG\"\n",
    "mysql.init_app(app)\n",
    "\"\"\"\n",
    "\n",
    "@app.route('/')\n",
    "def main():\n",
    "    return 'Default page'\n",
    " \n",
    "@app.route('/post', methods=['POST'])\n",
    "def test():\n",
    "    # if request.method == 'POST':\n",
    "    params = json.loads(request.get_data(), encoding='utf-8')\n",
    "    if len(params) == 0:\n",
    "        return 'No parameters'\n",
    "    else:\n",
    "        for key in params.keys():\n",
    "            params_str += 'key: {}, value: {}<br>'.format(key, params[key])\n",
    "        return params_str\n",
    "    # return 'Test page'\n",
    "\n",
    "@app.route('/send', methods = ['GET'])\n",
    "def send():\n",
    "    params = {\n",
    "        \"incentive\": 500\n",
    "    }\n",
    "    \n",
    "    res = requests.post(\"http://143.248.92.54:5000/post\", data = json.dumps(params))\n",
    "    return res.text\n",
    "\n",
    "if __name__ == '__main__':\n",
    "    app.run(host = '0.0.0.0')"
   ]
  },
  {
   "cell_type": "code",
   "execution_count": null,
   "id": "5a6d4f85",
   "metadata": {},
   "outputs": [],
   "source": []
  }
 ],
 "metadata": {
  "kernelspec": {
   "display_name": "Python 3 (ipykernel)",
   "language": "python",
   "name": "python3"
  },
  "language_info": {
   "codemirror_mode": {
    "name": "ipython",
    "version": 3
   },
   "file_extension": ".py",
   "mimetype": "text/x-python",
   "name": "python",
   "nbconvert_exporter": "python",
   "pygments_lexer": "ipython3",
   "version": "3.9.7"
  }
 },
 "nbformat": 4,
 "nbformat_minor": 5
}
